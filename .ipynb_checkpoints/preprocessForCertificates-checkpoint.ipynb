{
 "cells": [
  {
   "cell_type": "code",
   "execution_count": null,
   "id": "1e78883f-e9c8-4c16-af0c-2d681d8a6db6",
   "metadata": {},
   "outputs": [],
   "source": [
    "import pandas as pd\n",
    "\n",
    "DF1 = pd.read_csv(\"initial_data.csv\")\n",
    "\n",
    "DF2 = pd.read_csv(\"new_data.csv\")\n",
    "\n",
    "df = pd.concat([DF!, DF2])\n",
    "df = df.drop_duplicates(keep=True)\n",
    "\n",
    "df.to_csv(\"processed_data.csv\")"
   ]
  }
 ],
 "metadata": {
  "kernelspec": {
   "display_name": "Python 3 (ipykernel)",
   "language": "python",
   "name": "python3"
  },
  "language_info": {
   "codemirror_mode": {
    "name": "ipython",
    "version": 3
   },
   "file_extension": ".py",
   "mimetype": "text/x-python",
   "name": "python",
   "nbconvert_exporter": "python",
   "pygments_lexer": "ipython3",
   "version": "3.11.5"
  }
 },
 "nbformat": 4,
 "nbformat_minor": 5
}
